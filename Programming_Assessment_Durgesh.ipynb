{
 "cells": [
  {
   "cell_type": "markdown",
   "metadata": {},
   "source": [
    "\n",
    "\n",
    "# Programming Assesssment\n",
    "\n",
    "Estimated time needed: **30** minutes\n",
    "\n",
    "Please **SAVE** and **DOWNLOAD** your changes and send it to us. Saving from here does not save to the repository, it remains in your browser cache and we will not be able to see your answers and hence downloading is very important.\n"
   ]
  },
  {
   "cell_type": "markdown",
   "metadata": {},
   "source": [
    "**Case Study : Probability of drawing a Vaccine**"
   ]
  },
  {
   "cell_type": "markdown",
   "metadata": {},
   "source": [
    "\n",
    "\n",
    " \n",
    "The Vaccine is represented using a dictionary called \"Vaccine\", where the key represents the brand of the Vaccine and the value represents the number of Vaccine. The skeleton code has been made for you, do not add or remove any functions. Complete the following functions -\n",
    "\n",
    "-   totalVaccine - returns the total number of Vaccine \n",
    "-   probOf - takes a brand (string) as argument and returns probability of drawing the selected Vaccine. Assume total Vaccines are not zero and the brand given is a valid key.\n",
    "-   probAll -  returns a dictionary of all brands and their corresponding probability"
   ]
  },
  {
   "cell_type": "code",
   "execution_count": 1,
   "metadata": {},
   "outputs": [],
   "source": [
    "#Fill the following functions\n",
    "\n",
    "\n",
    "Vaccine = dict(Pfizer = 12, Oxford = 20, Moderna = 14, Johnson = 10)\n",
    "\n",
    "\n",
    "def totalVaccine():\n",
    "    val = []\n",
    "    total = []\n",
    "    val = Vaccine.values()\n",
    "    for items in val:\n",
    "        total.append(items)\n",
    "    total_count_vaccines = sum(total)\n",
    "    print(total_count_vaccines)\n",
    "    \n",
    "    \n",
    "def probOf(brand):\n",
    "    print(\"Vaccine brand\",brand,\" probability\",Vaccine[brand])\n",
    "\n",
    "def probAll():\n",
    "    print(Vaccine)\n"
   ]
  },
  {
   "cell_type": "markdown",
   "metadata": {},
   "source": [
    "Run this below piece of code to test your solution.\n"
   ]
  },
  {
   "cell_type": "code",
   "execution_count": 2,
   "metadata": {},
   "outputs": [
    {
     "name": "stdout",
     "output_type": "stream",
     "text": [
      "totalVaccine : \n",
      "56\n",
      "\n",
      " probOf\n",
      "Vaccine brand Pfizer  probability 12\n",
      "Vaccine brand Oxford  probability 20\n",
      "Vaccine brand Moderna  probability 14\n",
      "Vaccine brand Johnson  probability 10\n",
      "\n",
      " probAll\n",
      "{'Pfizer': 12, 'Oxford': 20, 'Moderna': 14, 'Johnson': 10}\n"
     ]
    }
   ],
   "source": [
    "# Skelton Code to call and print function result - Do not Change this #\n",
    "   \n",
    "\n",
    "print(\"totalVaccine : \")\n",
    "try:\n",
    "    totalVaccine()\n",
    "except NameError as e: \n",
    "    print('Error! Code: {c}, Message: {m}'.format(c = type(e).__name__, m = str(e)))\n",
    "except:\n",
    "    print(\"An error occured. Recheck your function\")\n",
    "\n",
    "\n",
    "    \n",
    "print(\"\\n probOf\")\n",
    "try:\n",
    "    for brand in Vaccine:\n",
    "           probOf(brand)            \n",
    "except NameError as e: \n",
    "    print('Error! Code: {c}, Message: {m}'.format(c = type(e).__name__, m = str(e)))\n",
    "except:\n",
    "    print(\"An error occured. Recheck your function\")\n",
    "    \n",
    "    \n",
    "    \n",
    "print(\"\\n probAll\")\n",
    "try:\n",
    "    probAll()\n",
    "except NameError as e: \n",
    "    print('Error! Code: {c}, Message: {m}'.format(c = type(e).__name__, m = str(e)))\n",
    "except:\n",
    "    print(\"An error occured. Recheck your function\")\n",
    "    "
   ]
  },
  {
   "cell_type": "code",
   "execution_count": null,
   "metadata": {},
   "outputs": [],
   "source": []
  }
 ],
 "metadata": {
  "kernelspec": {
   "display_name": "Python 3",
   "language": "python",
   "name": "python3"
  },
  "language_info": {
   "codemirror_mode": {
    "name": "ipython",
    "version": 3
   },
   "file_extension": ".py",
   "mimetype": "text/x-python",
   "name": "python",
   "nbconvert_exporter": "python",
   "pygments_lexer": "ipython3",
   "version": "3.7.9"
  }
 },
 "nbformat": 4,
 "nbformat_minor": 5
}
